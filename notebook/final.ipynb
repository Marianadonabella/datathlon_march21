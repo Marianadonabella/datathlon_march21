{
 "cells": [
  {
   "cell_type": "markdown",
   "metadata": {},
   "source": [
    "# Datathon - March 2021"
   ]
  },
  {
   "cell_type": "markdown",
   "metadata": {},
   "source": [
    "### Importing libraries"
   ]
  },
  {
   "cell_type": "code",
   "execution_count": 1,
   "metadata": {},
   "outputs": [],
   "source": [
    "import pandas as pd\n",
    "import numpy as np\n",
    "\n",
    "import matplotlib.pyplot as plt\n",
    "import seaborn as sns\n",
    "%matplotlib inline\n",
    "\n",
    "from sklearn.linear_model      import LinearRegression\n",
    "from sklearn.linear_model      import Lasso\n",
    "from sklearn.model_selection   import train_test_split\n",
    "from sklearn.impute            import SimpleImputer\n",
    "from sklearn.preprocessing     import FunctionTransformer\n",
    "from sklearn.preprocessing     import OneHotEncoder\n",
    "from sklearn.preprocessing     import OrdinalEncoder\n",
    "from sklearn.compose           import ColumnTransformer\n",
    "from sklearn.preprocessing     import StandardScaler\n",
    "from sklearn.pipeline          import Pipeline\n",
    "from sklearn.decomposition     import PCA\n",
    "from sklearn.tree              import DecisionTreeRegressor\n",
    "from sklearn.tree              import DecisionTreeClassifier\n",
    "from sklearn.neighbors         import KNeighborsRegressor\n",
    "from sklearn.neighbors         import KNeighborsClassifier\n",
    "from sklearn.model_selection   import RandomizedSearchCV\n",
    "from sklearn.feature_selection import SelectKBest, SelectFromModel, RFE\n",
    "from sklearn.ensemble          import RandomForestClassifier, AdaBoostClassifier, GradientBoostingClassifier, StackingClassifier\n",
    "from sklearn.ensemble          import RandomForestRegressor, AdaBoostRegressor, GradientBoostingRegressor, StackingRegressor\n",
    "from sklearn.metrics           import mean_squared_error\n",
    "from sklearn.linear_model      import RidgeCV\n",
    "from sklearn.svm               import SVR"
   ]
  },
  {
   "cell_type": "markdown",
   "metadata": {},
   "source": [
    "#### 1) Import dataset for training our model"
   ]
  },
  {
   "cell_type": "code",
   "execution_count": 2,
   "metadata": {},
   "outputs": [],
   "source": [
    "cookies = pd.read_csv('../data/cookies.csv')"
   ]
  },
  {
   "cell_type": "markdown",
   "metadata": {},
   "source": [
    "#### 2.1) Drop columns with low variance"
   ]
  },
  {
   "cell_type": "code",
   "execution_count": 3,
   "metadata": {},
   "outputs": [],
   "source": [
    "cookies.drop(columns=[\"aesthetic appeal\", \"diameter\"], inplace=True)"
   ]
  },
  {
   "cell_type": "markdown",
   "metadata": {},
   "source": [
    "#### 2.2) Drop row with pH > 14"
   ]
  },
  {
   "cell_type": "code",
   "execution_count": 4,
   "metadata": {},
   "outputs": [],
   "source": [
    "cookies.drop(16, inplace=True)\n",
    "cookies.reset_index(inplace=True)"
   ]
  },
  {
   "cell_type": "markdown",
   "metadata": {},
   "source": [
    "#### 2.3) Split 'mixins' column in ingredients"
   ]
  },
  {
   "cell_type": "code",
   "execution_count": 5,
   "metadata": {},
   "outputs": [],
   "source": [
    "cookies['chocolate'] = 0\n",
    "cookies['raisins'] = 0\n",
    "cookies['oats'] = 0\n",
    "cookies['nuts'] = 0\n",
    "cookies['peanut butter'] = 0\n",
    "\n",
    "mixins = ['chocolate', 'raisins', 'oats', 'nuts', 'peanut butter']\n",
    "cookies['mixins'].fillna(value = ' ', axis=0, inplace=True)\n",
    "for mix in mixins:\n",
    "    for i in range(len(cookies)):\n",
    "        if mix in [x.strip() for x in cookies.loc[i, 'mixins'].split(',')]:\n",
    "            cookies.loc[i, mix] = 1\n",
    "            \n",
    "cookies.drop(columns=[\"mixins\"], inplace=True)"
   ]
  },
  {
   "cell_type": "markdown",
   "metadata": {},
   "source": [
    "#### 2.4) Split data between training set and test set"
   ]
  },
  {
   "cell_type": "code",
   "execution_count": 6,
   "metadata": {},
   "outputs": [],
   "source": [
    "X = cookies.drop(columns=\"quality\")\n",
    "y = cookies[\"quality\"]\n",
    "\n",
    "X_train, X_test, y_train, y_test = train_test_split(X, y, test_size=0.2, random_state=1)\n",
    "X_train_1, X_test_1, y_train_1, y_test_1 = train_test_split(X, y, test_size=0.2, random_state=13)\n",
    "X_train_2, X_test_2, y_train_2, y_test_2 = train_test_split(X, y, test_size=0.2, random_state=8)\n",
    "X_train_3, X_test_3, y_train_3, y_test_3 = train_test_split(X, y, test_size=0.2, random_state=9)\n",
    "X_train_4, X_test_4, y_train_4, y_test_4 = train_test_split(X, y, test_size=0.2, random_state=2)\n",
    "X_train_5, X_test_5, y_train_5, y_test_5 = train_test_split(X, y, test_size=0.2, random_state=27)\n",
    "X_train_6, X_test_6, y_train_6, y_test_6 = train_test_split(X, y, test_size=0.2, random_state=171)\n",
    "X_train_7, X_test_7, y_train_7, y_test_7 = train_test_split(X, y, test_size=0.2, random_state=500)\n",
    "X_train_8, X_test_8, y_train_8, y_test_8 = train_test_split(X, y, test_size=0.2, random_state=17)"
   ]
  },
  {
   "cell_type": "markdown",
   "metadata": {},
   "source": [
    "#### 2.5) Fill numeric columns with the median for all the None values"
   ]
  },
  {
   "cell_type": "code",
   "execution_count": 7,
   "metadata": {},
   "outputs": [],
   "source": [
    "num_cols = X_train.select_dtypes(include=[\"int64\", \"float64\"]).columns\n",
    "cat_cols = X_train.select_dtypes(exclude=[\"int64\", \"float64\"]).columns"
   ]
  },
  {
   "cell_type": "code",
   "execution_count": 8,
   "metadata": {},
   "outputs": [],
   "source": [
    "def fill_numeric_nulls(df):\n",
    "    imputer = SimpleImputer(strategy=\"median\")\n",
    "    X = imputer.fit_transform(df)\n",
    "    return X\n",
    "\n",
    "numeric_nulls_imputer = FunctionTransformer(fill_numeric_nulls)"
   ]
  },
  {
   "cell_type": "markdown",
   "metadata": {},
   "source": [
    "#### 2.6) One Hot Encoding for 'butter type' column"
   ]
  },
  {
   "cell_type": "code",
   "execution_count": 9,
   "metadata": {},
   "outputs": [],
   "source": [
    "categ_encode_pipeline = ColumnTransformer([\n",
    "    (\"onehot_enc\", OneHotEncoder(handle_unknown=\"ignore\"), ['butter type'])\n",
    "])"
   ]
  },
  {
   "cell_type": "markdown",
   "metadata": {},
   "source": [
    "#### 2.7) Create the intermediate pipeline joining numeric column transformations and categorical transformations."
   ]
  },
  {
   "cell_type": "code",
   "execution_count": 10,
   "metadata": {},
   "outputs": [],
   "source": [
    "intermediate_pipeline = ColumnTransformer([\n",
    "    (\"num_nulls_imp\", numeric_nulls_imputer, num_cols),\n",
    "    (\"cat_fill_pipe\", categ_encode_pipeline, cat_cols)\n",
    "])"
   ]
  },
  {
   "cell_type": "markdown",
   "metadata": {},
   "source": [
    "#### 2.8) Creating the Decision Tree Regressor"
   ]
  },
  {
   "cell_type": "code",
   "execution_count": 11,
   "metadata": {},
   "outputs": [],
   "source": [
    "feature_selector_dtree = SelectFromModel(DecisionTreeRegressor(), max_features=7)"
   ]
  },
  {
   "cell_type": "markdown",
   "metadata": {},
   "source": [
    "#### 3.1) Creating the pipeline for Linear Regression Model"
   ]
  },
  {
   "cell_type": "code",
   "execution_count": 12,
   "metadata": {},
   "outputs": [],
   "source": [
    "pipeline_reg = Pipeline([\n",
    "    (\"intermediate_pipe\", intermediate_pipeline),\n",
    "    (\"standard_scal\", StandardScaler()),\n",
    "    #(\"feature_select\", feature_selector_dtree),\n",
    "    #(\"pca\", PCA(n_components=0.95)),\n",
    "    (\"reg\", LinearRegression())\n",
    "])"
   ]
  },
  {
   "cell_type": "markdown",
   "metadata": {},
   "source": [
    "#### 3.2) Creating the pipeline for Lasso Regression Model"
   ]
  },
  {
   "cell_type": "code",
   "execution_count": 13,
   "metadata": {},
   "outputs": [
    {
     "name": "stdout",
     "output_type": "stream",
     "text": [
      "0.05  -->  0.5755507612591264\n",
      "0.1  -->  0.6143859220317917\n",
      "0.15000000000000002  -->  0.6475451299225103\n",
      "0.2  -->  0.689857879705189\n",
      "0.25  -->  0.7390284023711559\n",
      "0.3  -->  0.7978249218638157\n",
      "0.35000000000000003  -->  0.8664965263486106\n",
      "0.4  -->  0.9366527252620885\n",
      "0.45  -->  0.9832033267471109\n",
      "0.5  -->  1.0349463165495247\n",
      "0.55  -->  1.0918816946693353\n",
      "0.6000000000000001  -->  1.1540094611065395\n",
      "0.6500000000000001  -->  1.221329615861143\n",
      "0.7000000000000001  -->  1.2938421589331397\n",
      "0.7500000000000001  -->  1.37154709032253\n",
      "0.8  -->  1.4544444100293201\n",
      "0.8500000000000001  -->  1.542534118053509\n",
      "0.9000000000000001  -->  1.6358162143950885\n"
     ]
    },
    {
     "data": {
      "image/png": "[encoded data removed]",
      "text/plain": [
       "<Figure size 1152x360 with 1 Axes>"
      ]
     },
     "metadata": {
      "needs_background": "light"
     },
     "output_type": "display_data"
    }
   ],
   "source": [
    "K = np.arange(0.05, 0.95, 0.05)\n",
    "rmse = []\n",
    "for k in K:\n",
    "    pipeline_lasso = Pipeline([\n",
    "        (\"intermediate_pipe\", intermediate_pipeline),\n",
    "        (\"standard_scal\", StandardScaler()),\n",
    "        #(\"feature_select\", feature_selector_dtree),\n",
    "        #(\"pca\", PCA(n_components=0.95)),\n",
    "        (\"lasso\", Lasso(alpha=k))\n",
    "    ])\n",
    "    pipeline_lasso.fit(X_train, y_train)\n",
    "    y_pred = pipeline_lasso.predict(X_test)\n",
    "    rmse.append(mean_squared_error(y_test, y_pred))\n",
    "    print(str(k), \" --> \", str(mean_squared_error(y_test, y_pred)))\n",
    "    \n",
    "# plot\n",
    "plt.figure(figsize=(16,5))\n",
    "plt.plot(K, rmse, 'bx-')\n",
    "plt.xlabel('Alpha')\n",
    "plt.ylabel('Mean Squared Error')\n",
    "plt.title('Lasso Model: Alpha optimization')\n",
    "plt.savefig('../figures/lasso_model.png', transparent=True)"
   ]
  },
  {
   "cell_type": "code",
   "execution_count": 14,
   "metadata": {},
   "outputs": [],
   "source": [
    "pipeline_lasso = Pipeline([\n",
    "    (\"intermediate_pipe\", intermediate_pipeline),\n",
    "    (\"standard_scal\", StandardScaler()),\n",
    "    #(\"feature_select\", feature_selector_dtree),\n",
    "    #(\"pca\", PCA(n_components=0.95)),\n",
    "    (\"lasso\", Lasso(alpha=0.05))\n",
    "])"
   ]
  },
  {
   "cell_type": "markdown",
   "metadata": {},
   "source": [
    "#### 3.3) Creating the pipeline for SVR Regression Model"
   ]
  },
  {
   "cell_type": "code",
   "execution_count": 15,
   "metadata": {},
   "outputs": [
    {
     "name": "stdout",
     "output_type": "stream",
     "text": [
      "0.05  -->  0.5111610442697389\n",
      "0.1  -->  0.5083679321798164\n",
      "0.15000000000000002  -->  0.5048087206927588\n",
      "0.2  -->  0.5033542410998884\n",
      "0.25  -->  0.5030275734292018\n",
      "0.3  -->  0.5037865664291886\n",
      "0.35000000000000003  -->  0.5038319859455719\n",
      "0.4  -->  0.5057053686542997\n",
      "0.45  -->  0.5090865840110107\n",
      "0.5  -->  0.5115561181976364\n",
      "0.55  -->  0.5111813828625436\n",
      "0.6000000000000001  -->  0.5117436803083794\n",
      "0.6500000000000001  -->  0.5134517581568433\n",
      "0.7000000000000001  -->  0.5150954112387902\n",
      "0.7500000000000001  -->  0.5168613408637294\n",
      "0.8  -->  0.5164170350482495\n",
      "0.8500000000000001  -->  0.5176580670190705\n",
      "0.9000000000000001  -->  0.5223552296035668\n"
     ]
    },
    {
     "data": {
      "image/png": "[encoded data removed]",
      "text/plain": [
       "<Figure size 1152x360 with 1 Axes>"
      ]
     },
     "metadata": {
      "needs_background": "light"
     },
     "output_type": "display_data"
    }
   ],
   "source": [
    "K = np.arange(0.05, 0.95, 0.05)\n",
    "rmse = []\n",
    "for k in K:\n",
    "    pipeline_svr = Pipeline([\n",
    "        (\"intermediate_pipe\", intermediate_pipeline),\n",
    "        (\"standard_scal\", StandardScaler()),\n",
    "        #(\"feature_select\", feature_selector_dtree),\n",
    "        #(\"pca\", PCA(n_components=0.95)),\n",
    "        (\"svr\", SVR(C=1, epsilon=k))\n",
    "    ])\n",
    "    pipeline_svr.fit(X_train, y_train)\n",
    "    y_pred = pipeline_svr.predict(X_test)\n",
    "    rmse.append(mean_squared_error(y_test, y_pred))\n",
    "    print(str(k), \" --> \", str(mean_squared_error(y_test, y_pred)))\n",
    "    \n",
    "# plot\n",
    "# plot\n",
    "plt.figure(figsize=(16,5))\n",
    "plt.plot(K, rmse, 'bx-')\n",
    "plt.xlabel('Epsilon')\n",
    "plt.ylabel('Mean Squared Error')\n",
    "plt.title('SVR Model: Epsilon optimization')\n",
    "plt.savefig('../figures/svr_model.png', transparent=True)"
   ]
  },
  {
   "cell_type": "code",
   "execution_count": 16,
   "metadata": {},
   "outputs": [],
   "source": [
    "pipeline_svr = Pipeline([\n",
    "    (\"intermediate_pipe\", intermediate_pipeline),\n",
    "    (\"standard_scal\", StandardScaler()),\n",
    "    #(\"feature_select\", feature_selector_dtree),\n",
    "    #(\"pca\", PCA(n_components=0.95)),\n",
    "    (\"svr\", SVR(C=1.0, epsilon=0.3))\n",
    "])"
   ]
  },
  {
   "cell_type": "markdown",
   "metadata": {},
   "source": [
    "#### 3.4) Creating the pipeline for KNeighbors Regression Model"
   ]
  },
  {
   "cell_type": "code",
   "execution_count": 17,
   "metadata": {},
   "outputs": [
    {
     "name": "stdout",
     "output_type": "stream",
     "text": [
      "1  -->  0.739423076923077\n",
      "2  -->  0.6035481826160656\n",
      "3  -->  0.5728374880605027\n",
      "4  -->  0.5423817327775282\n",
      "5  -->  0.5226645090021361\n",
      "6  -->  0.5215077884504612\n",
      "7  -->  0.5143226685359651\n",
      "8  -->  0.513256657255059\n",
      "9  -->  0.5069629909260674\n",
      "10  -->  0.5064319782609715\n",
      "11  -->  0.5051486863306385\n",
      "12  -->  0.5123205636936483\n",
      "13  -->  0.5113296585001653\n",
      "14  -->  0.51164530403513\n",
      "15  -->  0.510059766287407\n",
      "16  -->  0.5105299292163218\n",
      "17  -->  0.5107592097589986\n",
      "18  -->  0.5139153047390358\n",
      "19  -->  0.514479174455782\n",
      "20  -->  0.5146052987966743\n",
      "21  -->  0.5169452400056793\n",
      "22  -->  0.5180241342829245\n",
      "23  -->  0.5182540438448082\n",
      "24  -->  0.5195864024175537\n",
      "25  -->  0.5207030163882891\n",
      "26  -->  0.5214199106190965\n",
      "27  -->  0.5212382179511336\n",
      "28  -->  0.522588919300245\n",
      "29  -->  0.5238475013983447\n",
      "30  -->  0.5249814006263702\n",
      "31  -->  0.525661743110434\n",
      "32  -->  0.5263291952468386\n",
      "33  -->  0.526764469991036\n",
      "34  -->  0.5256730217538197\n",
      "35  -->  0.5278350049572237\n",
      "36  -->  0.5281563288580658\n",
      "37  -->  0.52881728520979\n",
      "38  -->  0.5298955934293094\n",
      "39  -->  0.529282924368769\n"
     ]
    },
    {
     "data": {
      "image/png": "[encoded data removed]",
      "text/plain": [
       "<Figure size 1152x360 with 1 Axes>"
      ]
     },
     "metadata": {
      "needs_background": "light"
     },
     "output_type": "display_data"
    }
   ],
   "source": [
    "K = range(1, 40)\n",
    "rmse = []\n",
    "for k in K:\n",
    "    pipeline_neigh = Pipeline([\n",
    "        (\"intermediate_pipe\", intermediate_pipeline),\n",
    "        (\"standard_scal\", StandardScaler()),\n",
    "        #(\"feature_select\", feature_selector_dtree),\n",
    "        #(\"pca\", PCA(n_components=0.95)),\n",
    "        (\"neigh\", KNeighborsRegressor(n_neighbors=k, weights = 'distance', p=1))\n",
    "    ])\n",
    "    pipeline_neigh.fit(X_train, y_train)\n",
    "    y_pred = pipeline_neigh.predict(X_test)\n",
    "    rmse.append(mean_squared_error(y_test, y_pred))\n",
    "    print(str(k), \" --> \", str(mean_squared_error(y_test, y_pred)))\n",
    "    \n",
    "# plot\n",
    "plt.figure(figsize=(16,5))\n",
    "plt.plot(K, rmse, 'bx-')\n",
    "plt.xlabel('Nº Neighbors')\n",
    "plt.ylabel('Mean Squared Error')\n",
    "plt.title('Neighbors Model: Nº Neighbors optimization')\n",
    "plt.savefig('../figures/neigh_model.png', transparent=True)"
   ]
  },
  {
   "cell_type": "code",
   "execution_count": 18,
   "metadata": {},
   "outputs": [],
   "source": [
    "pipeline_neigh = Pipeline([\n",
    "    (\"intermediate_pipe\", intermediate_pipeline),\n",
    "    (\"standard_scal\", StandardScaler()),\n",
    "    #(\"feature_select\", feature_selector_dtree),\n",
    "    #(\"pca\", PCA(n_components=0.95)),\n",
    "    (\"neigh\", KNeighborsRegressor(n_neighbors=9, weights = 'distance', p=1))\n",
    "])"
   ]
  },
  {
   "cell_type": "markdown",
   "metadata": {},
   "source": [
    "#### 3.5) Creating the pipeline for Decision Tree Regression Model"
   ]
  },
  {
   "cell_type": "code",
   "execution_count": 19,
   "metadata": {},
   "outputs": [],
   "source": [
    "pipeline_dec_tree = Pipeline([\n",
    "    (\"intermediate_pipe\", intermediate_pipeline),\n",
    "    (\"standard_scal\", StandardScaler()),\n",
    "    #(\"feature_select\", feature_selector_dtree),\n",
    "    #(\"pca\", PCA(n_components=0.95)),\n",
    "    (\"dec_tree\", DecisionTreeRegressor(random_state=0))\n",
    "])"
   ]
  },
  {
   "cell_type": "markdown",
   "metadata": {},
   "source": [
    "#### 3.6) Creating the pipeline for Random Forest Regression Model"
   ]
  },
  {
   "cell_type": "code",
   "execution_count": 20,
   "metadata": {},
   "outputs": [
    {
     "name": "stdout",
     "output_type": "stream",
     "text": [
      "10  -->  0.4874807692307693\n",
      "30  -->  0.47064423076923073\n",
      "50  -->  0.45667384615384615\n",
      "70  -->  0.4510963500784929\n",
      "90  -->  0.4513833095916429\n",
      "110  -->  0.44740845518118244\n",
      "130  -->  0.44718070095584894\n",
      "150  -->  0.44711876068376066\n",
      "170  -->  0.4471003792919883\n",
      "190  -->  0.4448221819731515\n",
      "210  -->  0.44464113465899185\n",
      "230  -->  0.44492514904754976\n",
      "250  -->  0.4451113538461538\n",
      "270  -->  0.44482362561992195\n",
      "290  -->  0.44483504070246044\n"
     ]
    },
    {
     "data": {
      "image/png": "[encoded data removed]",
      "text/plain": [
       "<Figure size 1152x360 with 1 Axes>"
      ]
     },
     "metadata": {
      "needs_background": "light"
     },
     "output_type": "display_data"
    }
   ],
   "source": [
    "K = np.arange(10, 300, 20)\n",
    "rmse = []\n",
    "for k in K:\n",
    "    pipeline_rfr = Pipeline([\n",
    "        (\"intermediate_pipe\", intermediate_pipeline),\n",
    "        (\"standard_scal\", StandardScaler()),\n",
    "        #(\"feature_select\", feature_selector_dtree),\n",
    "        #(\"pca\", PCA(n_components=k)),\n",
    "        (\"rfr\", RandomForestRegressor(n_estimators=k, random_state=0))\n",
    "    ])\n",
    "    pipeline_rfr.fit(X_train, y_train)\n",
    "    y_pred = pipeline_rfr.predict(X_test)\n",
    "    rmse.append(mean_squared_error(y_test, y_pred))\n",
    "    print(str(k), \" --> \", str(mean_squared_error(y_test, y_pred)))\n",
    "    \n",
    "# plot\n",
    "plt.figure(figsize=(16,5))\n",
    "plt.plot(K, rmse, 'bx-')\n",
    "plt.xlabel('Nº Estimators')\n",
    "plt.ylabel('Mean Squared Error')\n",
    "plt.title('Random Forest Model: Nº Estimators optimization')\n",
    "plt.savefig('../figures/rfr_model.png', transparent=True)"
   ]
  },
  {
   "cell_type": "code",
   "execution_count": 21,
   "metadata": {},
   "outputs": [],
   "source": [
    "pipeline_rfr = Pipeline([\n",
    "    (\"intermediate_pipe\", intermediate_pipeline),\n",
    "    (\"standard_scal\", StandardScaler()),\n",
    "    #(\"feature_select\", feature_selector_dtree),\n",
    "    #(\"pca\", PCA(n_components=0.95)),\n",
    "    (\"rfr\", RandomForestRegressor(n_estimators=170, random_state=0))\n",
    "])"
   ]
  },
  {
   "cell_type": "markdown",
   "metadata": {},
   "source": [
    "#### 3.7) Creating the pipeline for ADA Boost Regression Model"
   ]
  },
  {
   "cell_type": "code",
   "execution_count": 22,
   "metadata": {},
   "outputs": [],
   "source": [
    "pipeline_ada = Pipeline([\n",
    "    (\"intermediate_pipe\", intermediate_pipeline),\n",
    "    (\"standard_scal\", StandardScaler()),\n",
    "    #(\"feature_select\", feature_selector_dtree),\n",
    "    #(\"pca\", PCA(n_components=0.95)),\n",
    "    (\"ada\", AdaBoostRegressor(n_estimators=100, random_state=0))\n",
    "])"
   ]
  },
  {
   "cell_type": "markdown",
   "metadata": {},
   "source": [
    "#### 3.8) Creating the pipeline for Gradient Boost Regression Model"
   ]
  },
  {
   "cell_type": "code",
   "execution_count": 23,
   "metadata": {},
   "outputs": [
    {
     "name": "stdout",
     "output_type": "stream",
     "text": [
      "10  -->  0.7272256714279773\n",
      "20  -->  0.568471283823085\n",
      "30  -->  0.5299401281572054\n",
      "40  -->  0.5131093019643753\n",
      "50  -->  0.5046897957991403\n",
      "60  -->  0.49686777628097023\n",
      "70  -->  0.49124718436294257\n",
      "80  -->  0.4902181724276156\n",
      "90  -->  0.4881943855578819\n",
      "100  -->  0.4863851221734299\n",
      "110  -->  0.4850016885909475\n",
      "120  -->  0.4837552304749194\n",
      "130  -->  0.4822487234027443\n",
      "140  -->  0.48137443192378804\n",
      "150  -->  0.4812464629071987\n",
      "160  -->  0.48048047414353445\n",
      "170  -->  0.48017978267291245\n",
      "180  -->  0.4800969596410255\n",
      "190  -->  0.47900723451057253\n",
      "200  -->  0.47795086144590515\n",
      "210  -->  0.4761452826433429\n",
      "220  -->  0.4760255371043103\n",
      "230  -->  0.47511626404613305\n",
      "240  -->  0.47495071424542795\n",
      "250  -->  0.47384354567012166\n",
      "260  -->  0.4728473387591823\n",
      "270  -->  0.47283752825679926\n",
      "280  -->  0.47251870726777556\n",
      "290  -->  0.47178438678878165\n"
     ]
    },
    {
     "data": {
      "image/png": "[encoded data removed]",
      "text/plain": [
       "<Figure size 1152x360 with 1 Axes>"
      ]
     },
     "metadata": {
      "needs_background": "light"
     },
     "output_type": "display_data"
    }
   ],
   "source": [
    "K = range(10, 300, 10)\n",
    "rmse = []\n",
    "for k in K:\n",
    "    pipeline_grad = Pipeline([\n",
    "        (\"intermediate_pipe\", intermediate_pipeline),\n",
    "        (\"standard_scal\", StandardScaler()),\n",
    "        #(\"feature_select\", feature_selector_dtree),\n",
    "        #(\"pca\", PCA(n_components=0.99)),\n",
    "        (\"grad\", GradientBoostingRegressor(n_estimators=k, random_state=0))\n",
    "    ])\n",
    "    pipeline_grad.fit(X_train, y_train)\n",
    "    y_pred = pipeline_grad.predict(X_test)\n",
    "    rmse.append(mean_squared_error(y_test, y_pred))\n",
    "    print(str(k), \" --> \", str(mean_squared_error(y_test, y_pred)))\n",
    "    \n",
    "# plot\n",
    "plt.figure(figsize=(16,5))\n",
    "plt.plot(K, rmse, 'bx-')\n",
    "plt.xlabel('Nº Estimators')\n",
    "plt.ylabel('Mean Squared Error')\n",
    "plt.title('Gradient Boosting Model: Nº Estimators optimization')\n",
    "plt.savefig('../figures/grad_model.png', transparent=True)"
   ]
  },
  {
   "cell_type": "code",
   "execution_count": 24,
   "metadata": {},
   "outputs": [],
   "source": [
    "pipeline_grad = Pipeline([\n",
    "    (\"intermediate_pipe\", intermediate_pipeline),\n",
    "    (\"standard_scal\", StandardScaler()),\n",
    "    #(\"feature_select\", feature_selector_dtree),\n",
    "    #(\"pca\", PCA(n_components=0.95)),\n",
    "    (\"grad\", GradientBoostingRegressor(n_estimators=230, random_state=0))\n",
    "])"
   ]
  },
  {
   "cell_type": "markdown",
   "metadata": {},
   "source": [
    "#### 3.9) Creating the Stacking Regressor"
   ]
  },
  {
   "cell_type": "code",
   "execution_count": 25,
   "metadata": {},
   "outputs": [],
   "source": [
    "estimators = [('neigh', pipeline_neigh),\n",
    "              #('svr', pipeline_svr),\n",
    "              ('rfr', pipeline_rfr),\n",
    "              ('grad', pipeline_grad)\n",
    "             ]"
   ]
  },
  {
   "cell_type": "code",
   "execution_count": 26,
   "metadata": {},
   "outputs": [],
   "source": [
    "stacking_regressor = StackingRegressor(estimators=estimators)"
   ]
  },
  {
   "cell_type": "markdown",
   "metadata": {},
   "source": [
    "#### 4.1) Try all the pipelines in order to choose the better model"
   ]
  },
  {
   "cell_type": "code",
   "execution_count": 27,
   "metadata": {},
   "outputs": [
    {
     "data": {
      "text/plain": [
       "StackingRegressor(estimators=[('neigh',\n",
       "                               Pipeline(steps=[('intermediate_pipe',\n",
       "                                                ColumnTransformer(transformers=[('num_nulls_imp',\n",
       "                                                                                 FunctionTransformer(func=<function fill_numeric_nulls at 0x1465085e0>),\n",
       "                                                                                 Index(['index', 'sugar to flour ratio', 'sugar index', 'bake temp',\n",
       "       'chill time', 'calories', 'density', 'pH', 'grams baking soda',\n",
       "       'bake time', 'weight', 'crunch factor', 'chocol...\n",
       "       'bake time', 'weight', 'crunch factor', 'chocolate', 'raisins', 'oats',\n",
       "       'nuts', 'peanut butter'],\n",
       "      dtype='object')),\n",
       "                                                                                ('cat_fill_pipe',\n",
       "                                                                                 ColumnTransformer(transformers=[('onehot_enc',\n",
       "                                                                                                                  OneHotEncoder(handle_unknown='ignore'),\n",
       "                                                                                                                  ['butter '\n",
       "                                                                                                                   'type'])]),\n",
       "                                                                                 Index(['butter type'], dtype='object'))])),\n",
       "                                               ('standard_scal',\n",
       "                                                StandardScaler()),\n",
       "                                               ('grad',\n",
       "                                                GradientBoostingRegressor(n_estimators=230,\n",
       "                                                                          random_state=0))]))])"
      ]
     },
     "execution_count": 27,
     "metadata": {},
     "output_type": "execute_result"
    }
   ],
   "source": [
    "pipeline_reg.fit(X_train, y_train)\n",
    "pipeline_lasso.fit(X_train, y_train)\n",
    "pipeline_svr.fit(X_train, y_train)\n",
    "pipeline_neigh.fit(X_train, y_train)\n",
    "pipeline_dec_tree.fit(X_train, y_train)\n",
    "pipeline_rfr.fit(X_train, y_train)\n",
    "pipeline_ada.fit(X_train, y_train)\n",
    "pipeline_grad.fit(X_train, y_train)\n",
    "stacking_regressor.fit(X_train, y_train)"
   ]
  },
  {
   "cell_type": "markdown",
   "metadata": {},
   "source": [
    "#### 4.2) Create predictions for each pipeline"
   ]
  },
  {
   "cell_type": "code",
   "execution_count": 28,
   "metadata": {},
   "outputs": [],
   "source": [
    "y_pred_reg      = pipeline_reg.predict(X_test)\n",
    "y_pred_lasso    = pipeline_lasso.predict(X_test)\n",
    "y_pred_svr      = pipeline_svr.predict(X_test)\n",
    "y_pred_neigh    = pipeline_neigh.predict(X_test)\n",
    "y_pred_dec_tree = pipeline_dec_tree.predict(X_test)\n",
    "y_pred_rfr      = pipeline_rfr.predict(X_test)\n",
    "y_pred_ada      = pipeline_ada.predict(X_test)\n",
    "y_pred_grad     = pipeline_grad.predict(X_test)\n",
    "y_pred_stack    = stacking_regressor.predict(X_test)"
   ]
  },
  {
   "cell_type": "markdown",
   "metadata": {},
   "source": [
    "#### 4.3) Calculate the mean squared error for each predictions"
   ]
  },
  {
   "cell_type": "code",
   "execution_count": 29,
   "metadata": {},
   "outputs": [
    {
     "name": "stdout",
     "output_type": "stream",
     "text": [
      "reg      0.5474463145568709\n",
      "lasso    0.5755507612591264\n",
      "svr      0.5037865664291886\n",
      "neigh    0.5069629909260674\n",
      "dec_tree 0.7644230769230769\n",
      "rfr      0.4471003792919883\n",
      "ada      0.5639294154229482\n",
      "grad     0.47511626404613305\n",
      "stack    0.4430850425458047\n"
     ]
    }
   ],
   "source": [
    "print('reg     ', mean_squared_error(y_test, y_pred_reg))\n",
    "print('lasso   ', mean_squared_error(y_test, y_pred_lasso))\n",
    "print('svr     ', mean_squared_error(y_test, y_pred_svr))\n",
    "print('neigh   ', mean_squared_error(y_test, y_pred_neigh))\n",
    "print('dec_tree', mean_squared_error(y_test, y_pred_dec_tree))\n",
    "print('rfr     ', mean_squared_error(y_test, y_pred_rfr))\n",
    "print('ada     ', mean_squared_error(y_test, y_pred_ada))\n",
    "print('grad    ', mean_squared_error(y_test, y_pred_grad))\n",
    "print('stack   ', mean_squared_error(y_test, y_pred_stack))"
   ]
  },
  {
   "cell_type": "markdown",
   "metadata": {},
   "source": [
    "#### 5.1) Fitting our best model with the full data"
   ]
  },
  {
   "cell_type": "code",
   "execution_count": 30,
   "metadata": {},
   "outputs": [
    {
     "data": {
      "text/plain": [
       "StackingRegressor(estimators=[('neigh',\n",
       "                               Pipeline(steps=[('intermediate_pipe',\n",
       "                                                ColumnTransformer(transformers=[('num_nulls_imp',\n",
       "                                                                                 FunctionTransformer(func=<function fill_numeric_nulls at 0x1465085e0>),\n",
       "                                                                                 Index(['index', 'sugar to flour ratio', 'sugar index', 'bake temp',\n",
       "       'chill time', 'calories', 'density', 'pH', 'grams baking soda',\n",
       "       'bake time', 'weight', 'crunch factor', 'chocol...\n",
       "       'bake time', 'weight', 'crunch factor', 'chocolate', 'raisins', 'oats',\n",
       "       'nuts', 'peanut butter'],\n",
       "      dtype='object')),\n",
       "                                                                                ('cat_fill_pipe',\n",
       "                                                                                 ColumnTransformer(transformers=[('onehot_enc',\n",
       "                                                                                                                  OneHotEncoder(handle_unknown='ignore'),\n",
       "                                                                                                                  ['butter '\n",
       "                                                                                                                   'type'])]),\n",
       "                                                                                 Index(['butter type'], dtype='object'))])),\n",
       "                                               ('standard_scal',\n",
       "                                                StandardScaler()),\n",
       "                                               ('grad',\n",
       "                                                GradientBoostingRegressor(n_estimators=230,\n",
       "                                                                          random_state=0))]))])"
      ]
     },
     "execution_count": 30,
     "metadata": {},
     "output_type": "execute_result"
    }
   ],
   "source": [
    "stacking_regressor.fit(X, y)"
   ]
  },
  {
   "cell_type": "markdown",
   "metadata": {},
   "source": [
    "#### 5.2) Importing the validation set + cleaning the data"
   ]
  },
  {
   "cell_type": "code",
   "execution_count": 31,
   "metadata": {},
   "outputs": [],
   "source": [
    "cookies_val = pd.read_csv('../data/cookies_validate.csv')"
   ]
  },
  {
   "cell_type": "code",
   "execution_count": 32,
   "metadata": {},
   "outputs": [],
   "source": [
    "cookies_val.drop(columns=[\"aesthetic appeal\", \"diameter\"], inplace=True)"
   ]
  },
  {
   "cell_type": "code",
   "execution_count": 33,
   "metadata": {},
   "outputs": [],
   "source": [
    "cookies_val['chocolate'] = 0\n",
    "cookies_val['raisins'] = 0\n",
    "cookies_val['oats'] = 0\n",
    "cookies_val['nuts'] = 0\n",
    "cookies_val['peanut butter'] = 0\n",
    "\n",
    "mixins = ['chocolate', 'raisins', 'oats', 'nuts', 'peanut butter']\n",
    "cookies_val['mixins'].fillna(value = ' ', axis=0, inplace=True)\n",
    "for mix in mixins:\n",
    "    for i in range(len(cookies_val)):\n",
    "        if mix in [x.strip() for x in cookies_val.loc[i, 'mixins'].split(',')]:\n",
    "            cookies_val.loc[i, mix] = 1\n",
    "            \n",
    "cookies_val.drop(columns=[\"mixins\"], inplace=True)"
   ]
  },
  {
   "cell_type": "code",
   "execution_count": 34,
   "metadata": {},
   "outputs": [],
   "source": [
    "cookies_val.drop(columns= 'id', inplace=True)\n",
    "cookies_val.reset_index(inplace=True)"
   ]
  },
  {
   "cell_type": "code",
   "execution_count": 35,
   "metadata": {},
   "outputs": [],
   "source": [
    "X_val = cookies_val.drop(columns=\"quality\")\n",
    "y_val = cookies_val[\"quality\"]"
   ]
  },
  {
   "cell_type": "code",
   "execution_count": 36,
   "metadata": {},
   "outputs": [
    {
     "name": "stdout",
     "output_type": "stream",
     "text": [
      "<class 'pandas.core.frame.DataFrame'>\n",
      "RangeIndex: 779 entries, 0 to 778\n",
      "Data columns (total 18 columns):\n",
      " #   Column                Non-Null Count  Dtype  \n",
      "---  ------                --------------  -----  \n",
      " 0   index                 779 non-null    int64  \n",
      " 1   sugar to flour ratio  779 non-null    float64\n",
      " 2   sugar index           779 non-null    float64\n",
      " 3   bake temp             779 non-null    float64\n",
      " 4   chill time            779 non-null    float64\n",
      " 5   calories              779 non-null    float64\n",
      " 6   density               779 non-null    float64\n",
      " 7   pH                    779 non-null    float64\n",
      " 8   grams baking soda     779 non-null    float64\n",
      " 9   bake time             779 non-null    float64\n",
      " 10  butter type           779 non-null    object \n",
      " 11  weight                779 non-null    float64\n",
      " 12  crunch factor         779 non-null    float64\n",
      " 13  chocolate             779 non-null    int64  \n",
      " 14  raisins               779 non-null    int64  \n",
      " 15  oats                  779 non-null    int64  \n",
      " 16  nuts                  779 non-null    int64  \n",
      " 17  peanut butter         779 non-null    int64  \n",
      "dtypes: float64(11), int64(6), object(1)\n",
      "memory usage: 109.7+ KB\n"
     ]
    }
   ],
   "source": [
    "X_val.info()"
   ]
  },
  {
   "cell_type": "markdown",
   "metadata": {},
   "source": [
    "#### 6) Final prediction"
   ]
  },
  {
   "cell_type": "code",
   "execution_count": 37,
   "metadata": {},
   "outputs": [],
   "source": [
    "y_final_pred = stacking_regressor.predict(X_val)"
   ]
  },
  {
   "cell_type": "code",
   "execution_count": 38,
   "metadata": {},
   "outputs": [
    {
     "data": {
      "text/plain": [
       "array([7.40841087, 8.29305646, 7.71519745, 8.14552621, 7.5471351 ,\n",
       "       7.42810347, 7.99990815, 7.43039624, 7.49580062, 7.85190657,\n",
       "       7.75922586, 8.0427392 , 7.35264926, 8.02312122, 8.32895687,\n",
       "       7.59721183, 8.23914016, 7.62051516, 8.08970762, 8.33708832,\n",
       "       7.85794696, 8.25810841, 8.47032503, 7.66562313, 7.23777081,\n",
       "       6.87947877, 7.46003396, 7.38069279, 7.08271112, 7.50247305,\n",
       "       7.95831124, 7.99346649, 7.3847788 , 8.02848289, 8.22608659,\n",
       "       8.45105819, 9.29202874, 8.26053953, 6.75252387, 7.5884409 ,\n",
       "       8.13456463, 7.21135092, 7.98756662, 7.46779125, 7.34129214,\n",
       "       7.62848934, 7.34909856, 8.14978339, 7.45075152, 7.74687675,\n",
       "       7.0787044 , 7.48031876, 7.72941409, 7.80645299, 7.72694385,\n",
       "       7.8848951 , 7.47038581, 7.82031303, 8.24225204, 8.80472598,\n",
       "       7.61620643, 7.75400882, 7.07862435, 8.28098483, 8.26882853,\n",
       "       7.84841805, 7.43055653, 7.56786699, 7.5997035 , 8.24722159,\n",
       "       7.98306769, 8.44935061, 6.80732475, 7.00021751, 8.14988511,\n",
       "       7.0099389 , 7.74244141, 7.95848729, 7.34479189, 7.88481431,\n",
       "       7.58599507, 8.25199901, 7.65694704, 8.68324472, 7.12718388,\n",
       "       8.38682437, 8.35153092, 8.11791135, 7.84278848, 8.95968883,\n",
       "       7.90157366, 7.481997  , 8.21341753, 7.77808678, 8.02714699,\n",
       "       7.85654622, 8.06004993, 8.31987315, 7.89040952, 7.20264293,\n",
       "       8.86481748, 7.73657261, 8.95602596, 8.07339265, 8.45135437,\n",
       "       8.00351719, 7.37309005, 7.34711481, 7.7411042 , 8.75233296,\n",
       "       7.86854237, 7.11380442, 7.30301821, 7.54609333, 7.51728315,\n",
       "       7.33346159, 8.01336573, 8.02310502, 8.91615726, 7.59661167,\n",
       "       7.77976699, 7.69048209, 7.18847738, 7.87287704, 7.93086707,\n",
       "       8.03167984, 7.24761037, 7.94134006, 7.1669536 , 8.16619572,\n",
       "       7.54033711, 8.46923988, 7.35302961, 7.13742658, 7.29062937,\n",
       "       8.70967971, 7.19130045, 9.84076617, 8.11738771, 8.12470998,\n",
       "       7.84466919, 7.79004829, 7.393573  , 7.35002803, 7.70017579,\n",
       "       7.31141576, 7.10508857, 8.5470594 , 8.26753227, 8.42195759,\n",
       "       7.21857564, 8.00568783, 7.80494448, 7.35361316, 7.2418922 ,\n",
       "       7.73423782, 7.91728542, 7.09375775, 8.43559246, 8.98424366,\n",
       "       8.30342905, 7.56364069, 7.48439894, 8.46807892, 7.81758258,\n",
       "       7.27055426, 7.55982345, 7.6768957 , 7.79322107, 8.15475602,\n",
       "       8.9145979 , 7.96226546, 7.44435405, 7.69417731, 7.6116192 ,\n",
       "       8.32803796, 8.45682064, 7.91167646, 8.39226792, 8.07379682,\n",
       "       7.45415218, 7.33405595, 7.38913655, 7.28437171, 7.18036747,\n",
       "       6.90681492, 7.58121055, 7.13062353, 7.19377986, 8.27862848,\n",
       "       7.52622116, 7.0748795 , 8.5008573 , 7.24677765, 7.94074511,\n",
       "       8.01623742, 7.20297151, 7.2133153 , 8.93930826, 8.12045125,\n",
       "       7.61433561, 8.86538732, 8.78497243, 7.02444041, 8.32384615,\n",
       "       7.33732841, 7.33503645, 7.3909784 , 7.41096093, 8.0387347 ,\n",
       "       7.64906194, 7.31695524, 6.7810202 , 7.80640749, 7.35847369,\n",
       "       7.44033335, 7.80282738, 7.84675013, 7.35671465, 7.0514693 ,\n",
       "       7.16079307, 7.18791997, 7.16806381, 7.93030411, 7.44269822,\n",
       "       7.35582532, 7.73461239, 7.1851676 , 7.83954834, 7.44700145,\n",
       "       7.24970795, 7.4065107 , 7.01059732, 7.15215968, 7.53226319,\n",
       "       8.70023432, 8.89763766, 7.49238806, 8.6296625 , 7.65932772,\n",
       "       7.73076666, 8.38799113, 7.6234987 , 7.10076708, 7.59844639,\n",
       "       7.35797214, 7.55383778, 7.83235652, 7.85165184, 7.54327853,\n",
       "       7.4990617 , 8.94756676, 6.7351047 , 7.83282771, 7.39872871,\n",
       "       8.84217366, 7.48917598, 7.14017342, 7.83664609, 7.14734218,\n",
       "       8.69220925, 7.08456091, 7.50470086, 8.58807151, 8.08370871,\n",
       "       7.76965246, 7.21772028, 7.44016067, 7.75738771, 7.96349728,\n",
       "       9.00660968, 7.4731577 , 7.64451145, 7.00948862, 8.75100875,\n",
       "       7.35986151, 8.09062162, 9.33490488, 8.15140922, 8.25345844,\n",
       "       7.401343  , 7.928571  , 7.6298609 , 7.80255276, 8.40452592,\n",
       "       8.06634475, 7.01059512, 7.31006283, 8.84268086, 7.16942482,\n",
       "       8.4717801 , 8.81991266, 8.26863264, 8.19638061, 7.52501031,\n",
       "       8.86397046, 8.56069782, 7.68459426, 7.60102052, 7.7523333 ,\n",
       "       7.91013345, 7.91596133, 7.97381511, 7.31774748, 7.9971853 ,\n",
       "       8.59421721, 8.76550424, 8.5952612 , 8.15750133, 8.11566357,\n",
       "       8.47955144, 8.05123255, 8.35058096, 7.79884641, 8.22010835,\n",
       "       7.36595926, 7.36320824, 7.25495466, 7.9852961 , 8.89785171,\n",
       "       7.86965993, 7.96160048, 7.97883359, 8.22443426, 7.82877016,\n",
       "       7.66150949, 8.10070906, 9.36997742, 7.61848158, 8.35869614,\n",
       "       7.18571947, 8.69430528, 8.20322153, 7.48976369, 8.37720076,\n",
       "       8.28983807, 8.14450245, 7.98921176, 9.04569739, 8.20477394,\n",
       "       7.09499119, 7.24045744, 7.65659162, 8.59549907, 8.60027999,\n",
       "       7.84790707, 8.66767668, 7.43641293, 7.81045905, 7.71378867,\n",
       "       7.86215595, 7.6148728 , 7.70661553, 8.41257913, 7.95383082,\n",
       "       7.82850186, 8.09551058, 7.73041331, 8.30940902, 8.31292424,\n",
       "       7.99361688, 8.36853301, 7.45695123, 8.51452395, 8.40365989,\n",
       "       7.88403256, 7.61346396, 7.66367833, 8.08019067, 7.17030941,\n",
       "       8.32880132, 8.56572723, 7.64638787, 8.02190752, 7.59385293,\n",
       "       8.41153582, 7.95388818, 8.78731774, 8.99556171, 8.96098449,\n",
       "       8.0957876 , 8.35026344, 7.41053611, 8.3545884 , 8.34174699,\n",
       "       8.0632555 , 8.1625168 , 8.73914865, 8.68357264, 7.72446874,\n",
       "       8.3995906 , 8.07877767, 8.07389545, 8.99737078, 8.28930464,\n",
       "       8.67832496, 7.34892185, 7.41461491, 7.66677062, 8.33582374,\n",
       "       8.50915335, 6.91974017, 8.47778763, 8.52811001, 8.7456667 ,\n",
       "       8.21057422, 7.7568608 , 7.7010231 , 8.35400233, 7.89496259,\n",
       "       8.58841642, 8.34189906, 7.43740495, 8.10760358, 7.38356672,\n",
       "       7.91769499, 8.86032228, 7.33300458, 8.33480966, 8.62966746,\n",
       "       8.34313179, 8.4198788 , 9.39152367, 8.06446511, 8.42035894,\n",
       "       7.5583596 , 8.49335429, 7.84392442, 7.61457358, 8.60830285,\n",
       "       9.0862684 , 7.16373926, 7.80407429, 8.31220015, 8.81488463,\n",
       "       7.3290125 , 8.45288157, 7.85971878, 8.73114212, 7.69629943,\n",
       "       8.09528088, 8.84401213, 8.40715257, 8.39355312, 7.69307597,\n",
       "       8.72246029, 7.90259105, 7.27309722, 8.49612102, 8.70588371,\n",
       "       8.02020374, 7.98030128, 7.93669513, 7.84189519, 8.04218808,\n",
       "       8.08457999, 8.00786009, 7.95740346, 7.74535667, 7.76296603,\n",
       "       8.89828314, 8.29028958, 8.97733139, 8.30891871, 8.02858251,\n",
       "       7.73174174, 8.07471504, 7.7366318 , 7.37229883, 7.47270611,\n",
       "       8.50119356, 8.2659515 , 9.16013228, 7.12933876, 7.20735136,\n",
       "       7.99792165, 8.03166962, 7.06957293, 8.41346148, 8.85570004,\n",
       "       8.40578895, 8.09442113, 7.45960941, 7.22583669, 7.39029738,\n",
       "       8.72920129, 8.39656266, 7.5288808 , 8.96327244, 8.42587318,\n",
       "       7.35142944, 8.06796594, 7.48151035, 9.47939454, 8.00597352,\n",
       "       8.38737133, 8.37270667, 8.17209588, 7.23647919, 7.48705752,\n",
       "       7.13260205, 6.91860302, 7.16848791, 7.53062188, 8.59913529,\n",
       "       7.55163415, 7.72096496, 8.24060972, 8.77555023, 9.10626973,\n",
       "       8.21699326, 9.05936871, 7.4078262 , 7.32874875, 8.50805551,\n",
       "       7.94394289, 7.96089906, 8.21460949, 7.48014608, 8.34016394,\n",
       "       8.01761336, 8.14777229, 7.1477492 , 7.9116463 , 8.81006345,\n",
       "       8.53908508, 8.48100448, 8.41513721, 7.50378674, 8.74166989,\n",
       "       7.6653258 , 7.40367486, 8.96754154, 8.37264075, 8.37388341,\n",
       "       7.94384216, 8.00680797, 7.97085408, 7.99575672, 7.93763241,\n",
       "       7.61992749, 8.66229817, 7.94904906, 7.97336438, 8.19281637,\n",
       "       7.33143139, 7.32452789, 7.96249579, 8.11637813, 8.88818373,\n",
       "       7.89201034, 7.60460259, 7.91827804, 7.86804635, 7.9069515 ,\n",
       "       7.37765126, 7.87187963, 7.8951504 , 7.25146875, 8.16890117,\n",
       "       8.64626227, 8.07982896, 8.69222508, 7.59929242, 7.31335762,\n",
       "       7.23723102, 7.15794917, 7.08771457, 8.05476591, 7.07402024,\n",
       "       7.01900342, 9.00211231, 8.97824305, 7.85638284, 7.26108201,\n",
       "       8.14968576, 7.9959021 , 7.4344293 , 7.47152308, 8.52844577,\n",
       "       7.08628397, 6.43123   , 8.56705369, 8.36489396, 7.86125996,\n",
       "       8.64622452, 8.12981296, 7.38955084, 8.12111819, 7.72160914,\n",
       "       8.32246855, 8.22331904, 8.30864525, 8.60037161, 7.31002446,\n",
       "       7.20665517, 7.85228661, 7.87370208, 8.36985331, 8.262074  ,\n",
       "       8.44987939, 8.92024992, 8.12400762, 9.91205379, 7.7055349 ,\n",
       "       7.90105095, 7.230922  , 7.19270203, 7.2766478 , 7.98928453,\n",
       "       7.7102244 , 8.02377436, 8.16147814, 8.16671067, 7.93948722,\n",
       "       7.38579259, 7.30973698, 7.40817419, 7.91332211, 7.89635157,\n",
       "       7.88533939, 7.84638243, 7.77723915, 8.4195811 , 7.2646    ,\n",
       "       8.02726495, 7.35048078, 7.34534337, 7.22747277, 8.39921248,\n",
       "       8.40273283, 8.5147958 , 6.93742942, 7.259216  , 8.35947727,\n",
       "       7.19942112, 8.26564017, 7.3287533 , 8.03159728, 8.03384701,\n",
       "       7.49028502, 7.76896398, 8.45967153, 8.10977346, 8.1209955 ,\n",
       "       8.64199122, 8.62546643, 8.31854796, 8.91044518, 8.11791381,\n",
       "       9.21081119, 6.76658886, 8.57449268, 8.40087319, 8.34699712,\n",
       "       8.64072269, 6.98180931, 8.52727099, 8.47806936, 8.65098841,\n",
       "       8.70136472, 7.80159566, 7.83531943, 7.6483649 , 7.95016972,\n",
       "       7.95495378, 7.39716766, 8.40760084, 8.16875266, 7.44737796,\n",
       "       8.21665098, 7.97121588, 8.1060485 , 7.8822271 , 7.93203592,\n",
       "       8.39373558, 8.22440002, 8.87237679, 7.89082967, 8.43290117,\n",
       "       7.63740598, 8.2409411 , 7.85754444, 7.57668527, 8.48003901,\n",
       "       8.43232933, 8.21419986, 7.21250631, 7.6476022 , 7.65011216,\n",
       "       7.64615266, 8.63555576, 8.05270964, 7.22526315, 8.79492722,\n",
       "       7.77370685, 7.41338082, 8.5324749 , 8.63001394, 6.77168518,\n",
       "       7.53761683, 8.08924977, 7.60289756, 8.68543853, 8.3960706 ,\n",
       "       8.6608761 , 4.97755478, 5.34189127, 5.42972898, 5.53935523,\n",
       "       5.48375005, 5.12023607, 5.22449312, 5.09896263, 5.51101863,\n",
       "       5.63261038, 5.50994927, 5.29892225, 6.18727548, 5.6790949 ,\n",
       "       5.07499376, 6.04707294, 6.69877505, 6.46662827, 5.04337556,\n",
       "       6.04857823, 6.49287492, 5.65284571, 6.10166586, 5.16422605,\n",
       "       5.64885207, 6.10213974, 6.47448305, 5.38878583, 6.46861826,\n",
       "       5.23255771, 5.94823652, 5.13752036, 5.76130347, 5.11035289,\n",
       "       5.60016573, 4.99144238, 6.40400087, 6.47472813, 6.06090549,\n",
       "       5.32668575, 5.08797429, 6.36908374, 5.8750121 , 6.65913492,\n",
       "       6.98464916, 5.67858164, 6.57844617, 6.62473975, 4.99785544,\n",
       "       6.04140291, 5.16375128, 5.91606377, 5.37792697, 5.9832789 ,\n",
       "       6.52939852, 6.05846003, 6.60710818, 6.31730889, 5.3424896 ,\n",
       "       5.37874839, 5.82283431, 5.80638292, 5.74362064, 5.0631728 ,\n",
       "       6.7865977 , 5.44205095, 5.65077255, 4.64127501, 5.1924299 ,\n",
       "       5.32792158, 4.99516727, 5.08945573, 5.43728096])"
      ]
     },
     "execution_count": 38,
     "metadata": {},
     "output_type": "execute_result"
    }
   ],
   "source": [
    "y_final_pred"
   ]
  },
  {
   "cell_type": "markdown",
   "metadata": {},
   "source": [
    "### Home made cross-validation algorithm:"
   ]
  },
  {
   "cell_type": "code",
   "execution_count": 39,
   "metadata": {},
   "outputs": [
    {
     "name": "stdout",
     "output_type": "stream",
     "text": [
      "stack 1: 0.43686795537642753\n",
      "stack 2: 0.4490261976954934\n",
      "stack 3: 0.37197515131324693\n",
      "stack 4: 0.38298023820422106\n",
      "stack 5: 0.4115305818209919\n",
      "stack 6: 0.3997460307410421\n",
      "stack 7: 0.4157686793421795\n",
      "stack 8: 0.44150978420778425\n",
      "mean:  0.4136755773376733\n"
     ]
    }
   ],
   "source": [
    "stacking_regressor.fit(X_train_1, y_train_1)\n",
    "y_pred_stack_1 = stacking_regressor.predict(X_test_1)\n",
    "mse_1 = mean_squared_error(y_test_1, y_pred_stack_1)\n",
    "print('stack 1:', mse_1)\n",
    "\n",
    "stacking_regressor.fit(X_train_2, y_train_2)\n",
    "y_pred_stack_2 = stacking_regressor.predict(X_test_2)\n",
    "mse_2 = mean_squared_error(y_test_2, y_pred_stack_2)\n",
    "print('stack 2:', mse_2)\n",
    "\n",
    "stacking_regressor.fit(X_train_3, y_train_3)\n",
    "y_pred_stack_3 = stacking_regressor.predict(X_test_3)\n",
    "mse_3 = mean_squared_error(y_test_3, y_pred_stack_3)\n",
    "print('stack 3:', mse_3)\n",
    "\n",
    "stacking_regressor.fit(X_train_4, y_train_4)\n",
    "y_pred_stack_4 = stacking_regressor.predict(X_test_4)\n",
    "mse_4 = mean_squared_error(y_test_4, y_pred_stack_4)\n",
    "print('stack 4:', mse_4)\n",
    "\n",
    "stacking_regressor.fit(X_train_5, y_train_5)\n",
    "y_pred_stack_5 = stacking_regressor.predict(X_test_5)\n",
    "mse_5 = mean_squared_error(y_test_5, y_pred_stack_5)\n",
    "print('stack 5:', mse_5)\n",
    "\n",
    "stacking_regressor.fit(X_train_6, y_train_6)\n",
    "y_pred_stack_6 = stacking_regressor.predict(X_test_6)\n",
    "mse_6 = mean_squared_error(y_test_6, y_pred_stack_6)\n",
    "print('stack 6:', mse_6)\n",
    "\n",
    "stacking_regressor.fit(X_train_7, y_train_7)\n",
    "y_pred_stack_7 = stacking_regressor.predict(X_test_7)\n",
    "mse_7 = mean_squared_error(y_test_7, y_pred_stack_7)\n",
    "print('stack 7:', mse_7)\n",
    "\n",
    "stacking_regressor.fit(X_train_8, y_train_8)\n",
    "y_pred_stack_8 = stacking_regressor.predict(X_test_8)\n",
    "mse_8 = mean_squared_error(y_test_8, y_pred_stack_8)\n",
    "print('stack 8:', mse_8)\n",
    "\n",
    "print('mean: ', np.array([mse_1, mse_2, mse_3, mse_4, mse_5, mse_6, mse_7, mse_8]).mean())"
   ]
  },
  {
   "cell_type": "code",
   "execution_count": 40,
   "metadata": {},
   "outputs": [
    {
     "data": {
      "image/png": "[encoded data removed]",
      "text/plain": [
       "<Figure size 792x648 with 2 Axes>"
      ]
     },
     "metadata": {
      "needs_background": "light"
     },
     "output_type": "display_data"
    }
   ],
   "source": [
    "corr = X.corr()\n",
    "\n",
    "# Generate a mask for the upper triangle\n",
    "mask = np.triu(np.ones_like(corr, dtype=bool))\n",
    "\n",
    "# Set up the matplotlib figure\n",
    "fig14, ax14 = plt.subplots(figsize=(11, 9))\n",
    "\n",
    "# Generate a custom diverging colormap\n",
    "cmap = sns.diverging_palette(230, 20, as_cmap=True)\n",
    "\n",
    "# Draw the heatmap with the mask and correct aspect ratio\n",
    "sns.heatmap(corr, mask=mask, cmap=cmap, center=0,\n",
    "            square=True, linewidths=.5, cbar_kws={\"shrink\": .5})\n",
    "\n",
    "plt.savefig('../figures/corr_matrix.png', transparent=True)"
   ]
  },
  {
   "cell_type": "code",
   "execution_count": null,
   "metadata": {},
   "outputs": [],
   "source": []
  }
 ],
 "metadata": {
  "kernelspec": {
   "display_name": "myenv",
   "language": "python",
   "name": "myenv"
  },
  "language_info": {
   "codemirror_mode": {
    "name": "ipython",
    "version": 3
   },
   "file_extension": ".py",
   "mimetype": "text/x-python",
   "name": "python",
   "nbconvert_exporter": "python",
   "pygments_lexer": "ipython3",
   "version": "3.8.2"
  }
 },
 "nbformat": 4,
 "nbformat_minor": 4
}
